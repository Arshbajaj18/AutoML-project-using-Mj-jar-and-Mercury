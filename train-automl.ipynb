{
 "cells": [
  {
   "cell_type": "code",
   "execution_count": 1,
   "id": "9aab5e1e",
   "metadata": {},
   "outputs": [],
   "source": [
    "import os\n",
    "import shutil\n",
    "import pandas as pd\n",
    "import mercury as mr\n",
    "from supervised.automl import AutoML "
   ]
  },
  {
   "cell_type": "code",
   "execution_count": 2,
   "id": "d7009f5f",
   "metadata": {},
   "outputs": [],
   "source": [
    "import warnings\n",
    "warnings.filterwarnings(\"ignore\")"
   ]
  },
  {
   "cell_type": "code",
   "execution_count": 3,
   "id": "6313fc0d",
   "metadata": {},
   "outputs": [
    {
     "data": {
      "application/mercury+json": "{\n    \"widget\": \"App\",\n    \"title\": \"Train AutoML \\ud83e\\uddd1\\u200d\\ud83d\\udcbb\",\n    \"description\": \"Train ML pipeline with MLJAR AutoML\",\n    \"show_code\": false,\n    \"show_prompt\": false,\n    \"output\": \"app\",\n    \"schedule\": \"\",\n    \"notify\": \"{}\",\n    \"continuous_update\": true,\n    \"static_notebook\": false,\n    \"show_sidebar\": true,\n    \"full_screen\": true,\n    \"allow_download\": true,\n    \"stop_on_error\": false,\n    \"model_id\": \"mercury-app\",\n    \"code_uid\": \"App.0.40.25.1-randfee23f4b\"\n}",
      "text/html": [
       "<h3>Mercury Application</h3><small>This output won't appear in the web app.</small>"
      ],
      "text/plain": [
       "mercury.App"
      ]
     },
     "metadata": {},
     "output_type": "display_data"
    }
   ],
   "source": [
    "app = mr.App(title=\"Train AutoML 🧑‍💻\", description=\"Train ML pipeline with MLJAR AutoML\")"
   ]
  },
  {
   "cell_type": "markdown",
   "id": "6d62fe00",
   "metadata": {},
   "source": [
    "# Train Machine Learning Pipeline with MLJAR AutoML\n",
    "Please follow the steps:\n",
    "1. Upload CSV file with data. Data should heave column names in the first line.\n",
    "2. Select input features and target column.\n",
    "3. Select AutoML training mode, algorithms and training time limit.\n",
    "4. Directory with all ML models will be zipped and available to download."
   ]
  },
  {
   "cell_type": "code",
   "execution_count": 4,
   "id": "aafac626",
   "metadata": {},
   "outputs": [
    {
     "data": {
      "application/mercury+json": "{\n    \"widget\": \"File\",\n    \"max_file_size\": \"1MB\",\n    \"label\": \"Upload CSV with training data\",\n    \"model_id\": \"0d0815292051454cb67184fa96a7d7d5\",\n    \"code_uid\": \"File.0.40.18.1-rand74e7cef0\",\n    \"disabled\": false,\n    \"hidden\": false\n}",
      "application/vnd.jupyter.widget-view+json": {
       "model_id": "0d0815292051454cb67184fa96a7d7d5",
       "version_major": 2,
       "version_minor": 0
      },
      "text/plain": [
       "mercury.File"
      ]
     },
     "metadata": {},
     "output_type": "display_data"
    }
   ],
   "source": [
    "data_file = mr.File(label=\"Upload CSV with training data\", max_file_size=\"1MB\")"
   ]
  },
  {
   "cell_type": "code",
   "execution_count": 5,
   "id": "cb3cfa8c",
   "metadata": {},
   "outputs": [],
   "source": [
    "if data_file.filepath is None:\n",
    "    mr.Stop()"
   ]
  },
  {
   "cell_type": "code",
   "execution_count": null,
   "id": "02c8b639",
   "metadata": {},
   "outputs": [],
   "source": [
    "df = pd.read_csv(data_file.filepath)"
   ]
  },
  {
   "cell_type": "code",
   "execution_count": null,
   "id": "7557b68a",
   "metadata": {},
   "outputs": [],
   "source": [
    "mr.Markdown(\"### Training data\")"
   ]
  },
  {
   "cell_type": "code",
   "execution_count": null,
   "id": "83921208",
   "metadata": {},
   "outputs": [],
   "source": [
    "df"
   ]
  },
  {
   "cell_type": "code",
   "execution_count": null,
   "id": "44fbf6e2",
   "metadata": {},
   "outputs": [],
   "source": [
    "x_columns = mr.MultiSelect(label=\"Input features\", value=list(df.columns)[:-1], \n",
    "                           choices=list(df.columns))"
   ]
  },
  {
   "cell_type": "code",
   "execution_count": null,
   "id": "81d64072",
   "metadata": {},
   "outputs": [],
   "source": [
    "y_column = mr.Select(label=\"Target\", value=list(df.columns)[-1], choices=list(df.columns))"
   ]
  },
  {
   "cell_type": "code",
   "execution_count": null,
   "id": "465f07df",
   "metadata": {},
   "outputs": [],
   "source": [
    "if x_columns.value is None or len(x_columns.value) == 0 or y_column.value is None:\n",
    "    print(\"Please select input features and target column\")\n",
    "    mr.Stop()"
   ]
  },
  {
   "cell_type": "code",
   "execution_count": null,
   "id": "c91f5ef3",
   "metadata": {},
   "outputs": [],
   "source": []
  },
  {
   "cell_type": "code",
   "execution_count": null,
   "id": "6e4cc96d",
   "metadata": {},
   "outputs": [],
   "source": [
    "mode = mr.Select(label=\"AutoML Mode\", value=\"Explain\", choices=[\"Explain\", \"Perform\", \"Compete\"])"
   ]
  },
  {
   "cell_type": "code",
   "execution_count": null,
   "id": "4ad21129",
   "metadata": {},
   "outputs": [],
   "source": [
    "algos = {\n",
    "    \"Explain\": [\"Baseline\", \"Linear\", \"Decision Tree\", \"Random Forest\", \"Xgboost\", \"Neural Network\"],\n",
    "    \"Perform\": [\"Linear\", \"Random Forest\", \"LightGBM\", \"Xgboost\", \"CatBoost\", \"Neural Network\"],\n",
    "    \"Compete\": [\"Decision Tree\", \"Random Forest\", \"Extra Trees\", \"LightGBM\", \n",
    "                \"Xgboost\", \"CatBoost\", \"Neural Network\", \"Nearest Neighbors\"]\n",
    "}"
   ]
  },
  {
   "cell_type": "code",
   "execution_count": null,
   "id": "e957c5a2",
   "metadata": {},
   "outputs": [],
   "source": [
    "algorithms = mr.MultiSelect(label=\"Algorithms\", value=algos[mode.value], choices=algos[mode.value])"
   ]
  },
  {
   "cell_type": "code",
   "execution_count": null,
   "id": "b85b4124",
   "metadata": {},
   "outputs": [],
   "source": [
    "time_limit = mr.Select(label=\"Time limit (seconds)\", value=\"60\", choices=[\"60\", \"120\", \"240\", \"300\"])"
   ]
  },
  {
   "cell_type": "code",
   "execution_count": null,
   "id": "b3e6ba6c",
   "metadata": {},
   "outputs": [],
   "source": [
    "start_training = mr.Button(label=\"Start training\", style=\"success\")"
   ]
  },
  {
   "cell_type": "code",
   "execution_count": null,
   "id": "a735b3a7",
   "metadata": {},
   "outputs": [],
   "source": [
    "output_dir = mr.OutputDir()"
   ]
  },
  {
   "cell_type": "code",
   "execution_count": null,
   "id": "022b6eec",
   "metadata": {},
   "outputs": [],
   "source": [
    "automl = AutoML(mode=mode.value, algorithms=algorithms.value,\n",
    "                total_time_limit=int(time_limit.value))"
   ]
  },
  {
   "cell_type": "code",
   "execution_count": null,
   "id": "79246d1b",
   "metadata": {},
   "outputs": [],
   "source": [
    "if start_training.clicked:\n",
    "    mr.Markdown(\"### AutoML training logs\")\n",
    "    automl.fit(df[x_columns.value], df[y_column.value])\n",
    "    \n",
    "    output_filename = os.path.join(output_dir.path, automl._results_path)\n",
    "    shutil.make_archive(output_filename, 'zip', automl._results_path)"
   ]
  },
  {
   "cell_type": "code",
   "execution_count": null,
   "id": "30eefe3c",
   "metadata": {},
   "outputs": [],
   "source": [
    "if automl._best_model is None:\n",
    "    mr.Stop()"
   ]
  },
  {
   "cell_type": "code",
   "execution_count": null,
   "id": "8fcfbc1a",
   "metadata": {},
   "outputs": [],
   "source": [
    "automl.report()"
   ]
  },
  {
   "cell_type": "code",
   "execution_count": null,
   "id": "202bccd9",
   "metadata": {},
   "outputs": [],
   "source": []
  }
 ],
 "metadata": {
  "kernelspec": {
   "display_name": "appenv",
   "language": "python",
   "name": "appenv"
  },
  "language_info": {
   "codemirror_mode": {
    "name": "ipython",
    "version": 3
   },
   "file_extension": ".py",
   "mimetype": "text/x-python",
   "name": "python",
   "nbconvert_exporter": "python",
   "pygments_lexer": "ipython3",
   "version": "3.8.10"
  }
 },
 "nbformat": 4,
 "nbformat_minor": 5
}
