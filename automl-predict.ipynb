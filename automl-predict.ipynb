{
 "cells": [
  {
   "cell_type": "code",
   "execution_count": 1,
   "id": "cd859f09",
   "metadata": {},
   "outputs": [],
   "source": [
    "import os\n",
    "import shutil\n",
    "import pandas as pd\n",
    "import mercury as mr\n",
    "from supervised.automl import AutoML "
   ]
  },
  {
   "cell_type": "code",
   "execution_count": 2,
   "id": "d5e4f553",
   "metadata": {},
   "outputs": [],
   "source": [
    "import warnings\n",
    "warnings.filterwarnings(\"ignore\")"
   ]
  },
  {
   "cell_type": "code",
   "execution_count": 3,
   "id": "e4a86241",
   "metadata": {},
   "outputs": [
    {
     "data": {
      "application/mercury+json": "{\n    \"widget\": \"App\",\n    \"title\": \"Predict with AutoML \\ud83c\\udfaf\",\n    \"description\": \"Compute predictions on test data with AutoML\",\n    \"show_code\": false,\n    \"show_prompt\": false,\n    \"output\": \"app\",\n    \"schedule\": \"\",\n    \"notify\": \"{}\",\n    \"continuous_update\": true,\n    \"static_notebook\": false,\n    \"show_sidebar\": true,\n    \"full_screen\": true,\n    \"allow_download\": true,\n    \"stop_on_error\": false,\n    \"model_id\": \"mercury-app\",\n    \"code_uid\": \"App.0.40.25.1-randc8be43bc\"\n}",
      "text/html": [
       "<h3>Mercury Application</h3><small>This output won't appear in the web app.</small>"
      ],
      "text/plain": [
       "mercury.App"
      ]
     },
     "metadata": {},
     "output_type": "display_data"
    }
   ],
   "source": [
    "app = mr.App(title=\"Predict with AutoML 🎯\", description=\"Compute predictions on test data with AutoML\")"
   ]
  },
  {
   "cell_type": "markdown",
   "id": "9ab46d42",
   "metadata": {},
   "source": [
    "# Compute predictions\n",
    "\n",
    "Please follow the steps:\n",
    "1. Upload zip file with AutoML.\n",
    "2. Upload test data as CSV file.\n",
    "3. Download predictions."
   ]
  },
  {
   "cell_type": "code",
   "execution_count": 4,
   "id": "f2acef34",
   "metadata": {},
   "outputs": [
    {
     "data": {
      "application/mercury+json": "{\n    \"widget\": \"File\",\n    \"max_file_size\": \"100MB\",\n    \"label\": \"Upload zip with AutoML\",\n    \"model_id\": \"43b96d54f6c24b73949563e6d4b933b8\",\n    \"code_uid\": \"File.0.40.18.1-rand3b8fa11b\",\n    \"disabled\": false,\n    \"hidden\": false\n}",
      "application/vnd.jupyter.widget-view+json": {
       "model_id": "43b96d54f6c24b73949563e6d4b933b8",
       "version_major": 2,
       "version_minor": 0
      },
      "text/plain": [
       "mercury.File"
      ]
     },
     "metadata": {},
     "output_type": "display_data"
    }
   ],
   "source": [
    "automl_zip = mr.File(label=\"Upload zip with AutoML\")"
   ]
  },
  {
   "cell_type": "code",
   "execution_count": 5,
   "id": "c4bef80f",
   "metadata": {},
   "outputs": [],
   "source": [
    "if automl_zip.filepath is None:\n",
    "    mr.Stop()"
   ]
  },
  {
   "cell_type": "code",
   "execution_count": null,
   "id": "172440f1",
   "metadata": {},
   "outputs": [],
   "source": [
    "extract_dir = \"my_automl\""
   ]
  },
  {
   "cell_type": "code",
   "execution_count": null,
   "id": "00c491c1",
   "metadata": {},
   "outputs": [],
   "source": [
    "shutil.unpack_archive(automl_zip.filepath, extract_dir, \"zip\")"
   ]
  },
  {
   "cell_type": "code",
   "execution_count": null,
   "id": "144d9d52",
   "metadata": {},
   "outputs": [],
   "source": [
    "automl = AutoML(results_path=extract_dir)"
   ]
  },
  {
   "cell_type": "code",
   "execution_count": null,
   "id": "8a070136",
   "metadata": {},
   "outputs": [],
   "source": []
  },
  {
   "cell_type": "code",
   "execution_count": null,
   "id": "ab4d18b1",
   "metadata": {},
   "outputs": [],
   "source": [
    "test_data = mr.File(label=\"Upload test data\")"
   ]
  },
  {
   "cell_type": "code",
   "execution_count": null,
   "id": "69c8bfc6",
   "metadata": {},
   "outputs": [],
   "source": [
    "if test_data.filepath is None:\n",
    "    mr.Stop()"
   ]
  },
  {
   "cell_type": "code",
   "execution_count": null,
   "id": "45d2a28e",
   "metadata": {},
   "outputs": [],
   "source": [
    "df = pd.read_csv(test_data.filepath)"
   ]
  },
  {
   "cell_type": "code",
   "execution_count": null,
   "id": "559e0c12",
   "metadata": {},
   "outputs": [],
   "source": [
    "df"
   ]
  },
  {
   "cell_type": "code",
   "execution_count": null,
   "id": "99dfd387",
   "metadata": {},
   "outputs": [],
   "source": []
  },
  {
   "cell_type": "code",
   "execution_count": null,
   "id": "d67b4d0e",
   "metadata": {},
   "outputs": [],
   "source": [
    "predictions = automl.predict_all(df)"
   ]
  },
  {
   "cell_type": "code",
   "execution_count": null,
   "id": "a8a5d19e",
   "metadata": {},
   "outputs": [],
   "source": [
    "predictions"
   ]
  },
  {
   "cell_type": "code",
   "execution_count": null,
   "id": "c3dc1562",
   "metadata": {},
   "outputs": [],
   "source": [
    "output_dir = mr.OutputDir()"
   ]
  },
  {
   "cell_type": "code",
   "execution_count": null,
   "id": "b995ba03",
   "metadata": {},
   "outputs": [],
   "source": [
    "predictions.to_csv(os.path.join(output_dir.path, \"predictions.csv\"), index=False)"
   ]
  },
  {
   "cell_type": "code",
   "execution_count": null,
   "id": "ca7e1737",
   "metadata": {},
   "outputs": [],
   "source": []
  }
 ],
 "metadata": {
  "kernelspec": {
   "display_name": "appenv",
   "language": "python",
   "name": "appenv"
  },
  "language_info": {
   "codemirror_mode": {
    "name": "ipython",
    "version": 3
   },
   "file_extension": ".py",
   "mimetype": "text/x-python",
   "name": "python",
   "nbconvert_exporter": "python",
   "pygments_lexer": "ipython3",
   "version": "3.8.10"
  }
 },
 "nbformat": 4,
 "nbformat_minor": 5
}
